{
  "nbformat": 4,
  "nbformat_minor": 0,
  "metadata": {
    "colab": {
      "provenance": [],
      "authorship_tag": "ABX9TyOObup1zqqnCeB+ZLHZnrca",
      "include_colab_link": true
    },
    "kernelspec": {
      "name": "python3",
      "display_name": "Python 3"
    },
    "language_info": {
      "name": "python"
    }
  },
  "cells": [
    {
      "cell_type": "markdown",
      "metadata": {
        "id": "view-in-github",
        "colab_type": "text"
      },
      "source": [
        "<a href=\"https://colab.research.google.com/github/nikitazhuikov/Kaggle/blob/main/EDA_house_pricing.ipynb\" target=\"_parent\"><img src=\"https://colab.research.google.com/assets/colab-badge.svg\" alt=\"Open In Colab\"/></a>"
      ]
    },
    {
      "cell_type": "code",
      "source": [
        "import pandas as pd\n",
        "from pyspark.sql.functions import col, sum\n",
        "from pyspark.sql.types import StructType, StructField, IntegerType, DoubleType, StringType"
      ],
      "metadata": {
        "id": "nK5QdMZRfgaA"
      },
      "execution_count": 45,
      "outputs": []
    },
    {
      "cell_type": "code",
      "source": [
        "from pyspark.sql import SparkSession\n",
        "\n",
        "\n",
        "# Создаем SparkSession\n",
        "spark = (\n",
        "    SparkSession.builder\n",
        "    .appName(\"My PySpark Application\")   # Название приложения\n",
        "    .master(\"local[*]\")   # Указывает использовать локальный режим со всеми ядрами\n",
        "    .config(\"spark.executor.memory\", \"2g\")   # Настройка памяти для исполнителей\n",
        "    .config(\"spark.driver.memory\", \"2g\")   # Настройка памяти для драйвера\n",
        "    .config(\"spark.sql.debug.maxToStringFields\", 1000)\n",
        "    .getOrCreate()\n",
        ")\n",
        "\n",
        "# Проверка успешного подключения\n",
        "print(\"Spark Version:\", spark.version)"
      ],
      "metadata": {
        "colab": {
          "base_uri": "https://localhost:8080/"
        },
        "id": "jpdq0VjLgVd8",
        "outputId": "4d2c88a7-35da-43f8-effb-cdca5da075bb"
      },
      "execution_count": 3,
      "outputs": [
        {
          "output_type": "stream",
          "name": "stdout",
          "text": [
            "Spark Version: 3.5.5\n"
          ]
        }
      ]
    },
    {
      "cell_type": "markdown",
      "source": [
        "### Загрузка данных"
      ],
      "metadata": {
        "id": "6jRyQb1Oh6bp"
      }
    },
    {
      "cell_type": "code",
      "source": [
        "df = spark.read.csv(\"Housing.csv\", header=True, inferSchema=True)"
      ],
      "metadata": {
        "id": "0MXC2NgchJeG"
      },
      "execution_count": 4,
      "outputs": []
    },
    {
      "cell_type": "code",
      "source": [
        "df.show(5)"
      ],
      "metadata": {
        "colab": {
          "base_uri": "https://localhost:8080/"
        },
        "id": "fh5goFJ_hi_k",
        "outputId": "181d0adc-af06-4719-d097-69d379d32114"
      },
      "execution_count": 9,
      "outputs": [
        {
          "output_type": "stream",
          "name": "stdout",
          "text": [
            "+--------+----+--------+---------+-------+--------+---------+--------+---------------+---------------+-------+--------+----------------+\n",
            "|   price|area|bedrooms|bathrooms|stories|mainroad|guestroom|basement|hotwaterheating|airconditioning|parking|prefarea|furnishingstatus|\n",
            "+--------+----+--------+---------+-------+--------+---------+--------+---------------+---------------+-------+--------+----------------+\n",
            "|13300000|7420|       4|        2|      3|     yes|       no|      no|             no|            yes|      2|     yes|       furnished|\n",
            "|12250000|8960|       4|        4|      4|     yes|       no|      no|             no|            yes|      3|      no|       furnished|\n",
            "|12250000|9960|       3|        2|      2|     yes|       no|     yes|             no|             no|      2|     yes|  semi-furnished|\n",
            "|12215000|7500|       4|        2|      2|     yes|       no|     yes|             no|            yes|      3|     yes|       furnished|\n",
            "|11410000|7420|       4|        1|      2|     yes|      yes|     yes|             no|            yes|      2|      no|       furnished|\n",
            "+--------+----+--------+---------+-------+--------+---------+--------+---------------+---------------+-------+--------+----------------+\n",
            "only showing top 5 rows\n",
            "\n"
          ]
        }
      ]
    },
    {
      "cell_type": "markdown",
      "source": [
        "### Характеристика данных"
      ],
      "metadata": {
        "id": "8Jsobsh9j13E"
      }
    },
    {
      "cell_type": "code",
      "source": [
        "df.summary().show()"
      ],
      "metadata": {
        "colab": {
          "base_uri": "https://localhost:8080/"
        },
        "id": "1ZacTAbMiMA2",
        "outputId": "a2408bf4-3d5b-4a12-f667-609d31ce1ff2"
      },
      "execution_count": 12,
      "outputs": [
        {
          "output_type": "stream",
          "name": "stdout",
          "text": [
            "+-------+------------------+------------------+------------------+------------------+------------------+--------+---------+--------+---------------+---------------+------------------+--------+----------------+\n",
            "|summary|             price|              area|          bedrooms|         bathrooms|           stories|mainroad|guestroom|basement|hotwaterheating|airconditioning|           parking|prefarea|furnishingstatus|\n",
            "+-------+------------------+------------------+------------------+------------------+------------------+--------+---------+--------+---------------+---------------+------------------+--------+----------------+\n",
            "|  count|               545|               545|               545|               545|               545|     545|      545|     545|            545|            545|               545|     545|             545|\n",
            "|   mean| 4766729.247706422|  5150.54128440367|2.9651376146788992|1.2862385321100918|1.8055045871559634|    NULL|     NULL|    NULL|           NULL|           NULL|0.6935779816513762|    NULL|            NULL|\n",
            "| stddev|1870439.6156573943|2170.1410225088025|0.7380638605685749|0.5024696160532152|0.8674924629255263|    NULL|     NULL|    NULL|           NULL|           NULL|0.8615857504605414|    NULL|            NULL|\n",
            "|    min|           1750000|              1650|                 1|                 1|                 1|      no|       no|      no|             no|             no|                 0|      no|       furnished|\n",
            "|    25%|           3430000|              3600|                 2|                 1|                 1|    NULL|     NULL|    NULL|           NULL|           NULL|                 0|    NULL|            NULL|\n",
            "|    50%|           4340000|              4600|                 3|                 1|                 2|    NULL|     NULL|    NULL|           NULL|           NULL|                 0|    NULL|            NULL|\n",
            "|    75%|           5740000|              6360|                 3|                 2|                 2|    NULL|     NULL|    NULL|           NULL|           NULL|                 1|    NULL|            NULL|\n",
            "|    max|          13300000|             16200|                 6|                 4|                 4|     yes|      yes|     yes|            yes|            yes|                 3|     yes|     unfurnished|\n",
            "+-------+------------------+------------------+------------------+------------------+------------------+--------+---------+--------+---------------+---------------+------------------+--------+----------------+\n",
            "\n"
          ]
        }
      ]
    },
    {
      "cell_type": "code",
      "source": [
        "df.printSchema()\n",
        "num_rows = df.count()\n",
        "num_cols = len(df.columns)\n",
        "print(f\"Number of rows: {num_rows}, Number of columns: {num_cols}\")"
      ],
      "metadata": {
        "colab": {
          "base_uri": "https://localhost:8080/"
        },
        "id": "D3VZDNQpj6TF",
        "outputId": "e03a5f33-4ec5-4662-ecb4-db53e7da91d2"
      },
      "execution_count": 16,
      "outputs": [
        {
          "output_type": "stream",
          "name": "stdout",
          "text": [
            "root\n",
            " |-- price: integer (nullable = true)\n",
            " |-- area: integer (nullable = true)\n",
            " |-- bedrooms: integer (nullable = true)\n",
            " |-- bathrooms: integer (nullable = true)\n",
            " |-- stories: integer (nullable = true)\n",
            " |-- mainroad: string (nullable = true)\n",
            " |-- guestroom: string (nullable = true)\n",
            " |-- basement: string (nullable = true)\n",
            " |-- hotwaterheating: string (nullable = true)\n",
            " |-- airconditioning: string (nullable = true)\n",
            " |-- parking: integer (nullable = true)\n",
            " |-- prefarea: string (nullable = true)\n",
            " |-- furnishingstatus: string (nullable = true)\n",
            "\n",
            "Number of rows: 545, Number of columns: 13\n"
          ]
        }
      ]
    },
    {
      "cell_type": "markdown",
      "source": [
        "### Поиск отсутствующих значений"
      ],
      "metadata": {
        "id": "fhpPrWLylmHf"
      }
    },
    {
      "cell_type": "code",
      "source": [
        "missing_values = df.select([sum(col(c).isNull().cast(\"int\")).alias(c) for c in df.columns])\n",
        "missing_values.show()"
      ],
      "metadata": {
        "colab": {
          "base_uri": "https://localhost:8080/"
        },
        "id": "MNRA2RcspWKK",
        "outputId": "8b9b24e4-efdd-4378-baa0-9a81d92311b8"
      },
      "execution_count": 19,
      "outputs": [
        {
          "output_type": "stream",
          "name": "stdout",
          "text": [
            "+-----+----+--------+---------+-------+--------+---------+--------+---------------+---------------+-------+--------+----------------+\n",
            "|price|area|bedrooms|bathrooms|stories|mainroad|guestroom|basement|hotwaterheating|airconditioning|parking|prefarea|furnishingstatus|\n",
            "+-----+----+--------+---------+-------+--------+---------+--------+---------------+---------------+-------+--------+----------------+\n",
            "|    0|   0|       0|        0|      0|       0|        0|       0|              0|              0|      0|       0|               0|\n",
            "+-----+----+--------+---------+-------+--------+---------+--------+---------------+---------------+-------+--------+----------------+\n",
            "\n"
          ]
        }
      ]
    },
    {
      "cell_type": "code",
      "source": [
        "print(col('price').isNull()) # Подумать еще"
      ],
      "metadata": {
        "colab": {
          "base_uri": "https://localhost:8080/"
        },
        "id": "65EIJToTqXIr",
        "outputId": "0a26cf04-300e-4925-b001-fea643a79c23"
      },
      "execution_count": 30,
      "outputs": [
        {
          "output_type": "stream",
          "name": "stdout",
          "text": [
            "Column<'(price IS NULL)'>\n"
          ]
        }
      ]
    },
    {
      "cell_type": "markdown",
      "source": [
        "### Дополнение пустыми значениями"
      ],
      "metadata": {
        "id": "VjF21Qq3sT4i"
      }
    },
    {
      "cell_type": "code",
      "source": [
        "schema = StructType([StructField('price', IntegerType(), True),\n",
        "                     StructField('area', IntegerType(), True),\n",
        "                     StructField('bedrooms', IntegerType(), True),\n",
        "                     StructField('bathrooms', IntegerType(), True),\n",
        "                     StructField('stories', IntegerType(), True),\n",
        "                     StructField('mainroad', StringType(), True),\n",
        "                     StructField('guestroom', StringType(), True),\n",
        "                     StructField('basement', StringType(), True),\n",
        "                     StructField('hotwaterheating', StringType(), True),\n",
        "                     StructField('airconditioning', StringType(), True),\n",
        "                     StructField('parking', IntegerType(), True),\n",
        "                     StructField('prefarea', StringType(), True),\n",
        "                     StructField('furnishingstatus', StringType(), True)\n",
        "])\n",
        "df1 = spark.createDataFrame([(4340000, None, 3, None, 2, 'yes', None, None, 'no', None, None, None, None),\n",
        "                             (4000000, None, 3, None, 2, None, None, None, None, None, None, None, None),\n",
        "                             (None, 5000, 3, None, 2, None, 'no', None, None, None, None, 'yes', 'yes')], schema=schema)\n",
        "df1.show()"
      ],
      "metadata": {
        "colab": {
          "base_uri": "https://localhost:8080/"
        },
        "id": "et06yt3bscko",
        "outputId": "bd3975a6-6941-4cc8-8dbd-9872b4cde3c6"
      },
      "execution_count": 49,
      "outputs": [
        {
          "output_type": "stream",
          "name": "stdout",
          "text": [
            "+-------+----+--------+---------+-------+--------+---------+--------+---------------+---------------+-------+--------+----------------+\n",
            "|  price|area|bedrooms|bathrooms|stories|mainroad|guestroom|basement|hotwaterheating|airconditioning|parking|prefarea|furnishingstatus|\n",
            "+-------+----+--------+---------+-------+--------+---------+--------+---------------+---------------+-------+--------+----------------+\n",
            "|4340000|NULL|       3|     NULL|      2|     yes|     NULL|    NULL|             no|           NULL|   NULL|    NULL|            NULL|\n",
            "|4000000|NULL|       3|     NULL|      2|    NULL|     NULL|    NULL|           NULL|           NULL|   NULL|    NULL|            NULL|\n",
            "|   NULL|5000|       3|     NULL|      2|    NULL|       no|    NULL|           NULL|           NULL|   NULL|     yes|             yes|\n",
            "+-------+----+--------+---------+-------+--------+---------+--------+---------------+---------------+-------+--------+----------------+\n",
            "\n"
          ]
        }
      ]
    },
    {
      "cell_type": "code",
      "source": [
        "df = df.union(df1)\n",
        "df.tail(5)"
      ],
      "metadata": {
        "colab": {
          "base_uri": "https://localhost:8080/"
        },
        "id": "5o8AqQWLB5bs",
        "outputId": "5e95fff5-d9e3-49e3-db8e-11508dfb1b12"
      },
      "execution_count": 50,
      "outputs": [
        {
          "output_type": "execute_result",
          "data": {
            "text/plain": [
              "[Row(price=1750000, area=2910, bedrooms=3, bathrooms=1, stories=1, mainroad='no', guestroom='no', basement='no', hotwaterheating='no', airconditioning='no', parking=0, prefarea='no', furnishingstatus='furnished'),\n",
              " Row(price=1750000, area=3850, bedrooms=3, bathrooms=1, stories=2, mainroad='yes', guestroom='no', basement='no', hotwaterheating='no', airconditioning='no', parking=0, prefarea='no', furnishingstatus='unfurnished'),\n",
              " Row(price=4340000, area=None, bedrooms=3, bathrooms=None, stories=2, mainroad='yes', guestroom=None, basement=None, hotwaterheating='no', airconditioning=None, parking=None, prefarea=None, furnishingstatus=None),\n",
              " Row(price=4000000, area=None, bedrooms=3, bathrooms=None, stories=2, mainroad=None, guestroom=None, basement=None, hotwaterheating=None, airconditioning=None, parking=None, prefarea=None, furnishingstatus=None),\n",
              " Row(price=None, area=5000, bedrooms=3, bathrooms=None, stories=2, mainroad=None, guestroom='no', basement=None, hotwaterheating=None, airconditioning=None, parking=None, prefarea='yes', furnishingstatus='yes')]"
            ]
          },
          "metadata": {},
          "execution_count": 50
        }
      ]
    },
    {
      "cell_type": "markdown",
      "source": [
        "### Замена пустых значений"
      ],
      "metadata": {
        "id": "Lnwwyb41C8no"
      }
    },
    {
      "cell_type": "code",
      "source": [
        "df.na.fill({'price': 4340000, 'area': 4600, 'bedrooms': 2, 'bathrooms': 1, 'stories': 2, 'mainroad': 'yes', 'guestroom': 'no',\n",
        "            'basement': 'no', 'hotwaterheating': ,airconditioning,parking,prefarea,furnishingstatus}).show()\n"
      ],
      "metadata": {
        "id": "rn41loXZDDdw"
      },
      "execution_count": null,
      "outputs": []
    }
  ]
}