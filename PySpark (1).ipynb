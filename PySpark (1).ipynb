{
  "cells": [
    {
      "cell_type": "code",
      "execution_count": 1,
      "metadata": {
        "colab": {
          "base_uri": "https://localhost:8080/"
        },
        "id": "s8LSAtB8Dst7",
        "outputId": "013de5b7-14cf-4cda-b9d3-4015a0cd3c92"
      },
      "outputs": [
        {
          "name": "stdout",
          "output_type": "stream",
          "text": [
            "Spark Version: 3.5.5\n"
          ]
        }
      ],
      "source": [
        "from pyspark.sql import SparkSession\n",
        "\n",
        "# Создаем SparkSession\n",
        "spark = (\n",
        "    SparkSession.builder\n",
        "    .appName(\"My PySpark Application\")   # Название приложения\n",
        "    .master(\"local[*]\")   # Указывает использовать локальный режим со всеми ядрами\n",
        "    .config(\"spark.executor.memory\", \"2g\")   # Настройка памяти для исполнителей\n",
        "    .config(\"spark.driver.memory\", \"2g\")   # Настройка памяти для драйвера\n",
        "    .config(\"spark.sql.debug.maxToStringFields\", 1000)\n",
        "    .getOrCreate()\n",
        ")\n",
        "\n",
        "# Проверка успешного подключения\n",
        "print(\"Spark Version:\", spark.version)"
      ]
    },
    {
      "cell_type": "code",
      "execution_count": 2,
      "metadata": {
        "colab": {
          "base_uri": "https://localhost:8080/"
        },
        "id": "cBGtp4s-D67U",
        "outputId": "e8ead34c-207d-43ef-b4f9-0423c5786096"
      },
      "outputs": [
        {
          "name": "stdout",
          "output_type": "stream",
          "text": [
            "+--------------+------------+-------------+----------+--------+-----------+--------------------+-----------+\n",
            "|Square_Footage|Num_Bedrooms|Num_Bathrooms|Year_Built|Lot_Size|Garage_Size|Neighborhood_Quality|House_Price|\n",
            "+--------------+------------+-------------+----------+--------+-----------+--------------------+-----------+\n",
            "|          1360|           2|            1|      1981|   0.599|          0|                   5|  262382.85|\n",
            "|          4272|           3|            2|      2016|   4.753|          1|                   6|  985260.85|\n",
            "|          3592|           1|            1|      2016|   3.634|          0|                   9|  777977.39|\n",
            "+--------------+------------+-------------+----------+--------+-----------+--------------------+-----------+\n",
            "only showing top 3 rows\n",
            "\n",
            "+-----------+-----------+--------+------------+--------------------+\n",
            "|Property_ID|Garage_Size|Has_Pool|Has_Basement|Neighborhood_Quality|\n",
            "+-----------+-----------+--------+------------+--------------------+\n",
            "|          1|          0|       1|           0|                   5|\n",
            "|          2|          1|       1|           1|                   6|\n",
            "|          3|          0|       0|           1|                   9|\n",
            "+-----------+-----------+--------+------------+--------------------+\n",
            "only showing top 3 rows\n",
            "\n"
          ]
        }
      ],
      "source": [
        "from pyspark.sql.types import StructType, StructField, IntegerType, DoubleType\n",
        "\n",
        "# Данные первой таблицы\n",
        "data1 = [\n",
        "    (1360, 2, 1, 1981, 0.599, 0, 5, 262382.85),\n",
        "    (4272, 3, 2, 2016, 4.753, 1, 6, 985260.85),\n",
        "    (3592, 1, 1, 2016, 3.634, 0, 9, 777977.39),\n",
        "    (966, 1, 1, 1977, 2.730, 1, 8, 229698.91),\n",
        "    (4926, 2, 2, 1993, 4.699, 0, 8, 1041740.85)\n",
        "]\n",
        "\n",
        "# Схема первой таблицы\n",
        "schema1 = StructType([\n",
        "    StructField(\"Square_Footage\", IntegerType(), True),\n",
        "    StructField(\"Num_Bedrooms\", IntegerType(), True),\n",
        "    StructField(\"Num_Bathrooms\", IntegerType(), True),\n",
        "    StructField(\"Year_Built\", IntegerType(), True),\n",
        "    StructField(\"Lot_Size\", DoubleType(), True),\n",
        "    StructField(\"Garage_Size\", IntegerType(), True),\n",
        "    StructField(\"Neighborhood_Quality\", IntegerType(), True),\n",
        "    StructField(\"House_Price\", DoubleType(), True)\n",
        "])\n",
        "\n",
        "# Создание первой таблицы\n",
        "df1 = spark.createDataFrame(data1, schema=schema1)\n",
        "\n",
        "# Данные второй таблицы\n",
        "data2 = [\n",
        "    (1, 0, 1, 0, 5),\n",
        "    (2, 1, 1, 1, 6),\n",
        "    (3, 0, 0, 1, 9),\n",
        "    (4, 1, 0, 1, 8),\n",
        "    (5, 0, 1, 0, 8)\n",
        "]\n",
        "\n",
        "# Схема второй таблицы\n",
        "schema2 = StructType([\n",
        "    StructField(\"Property_ID\", IntegerType(), True),\n",
        "    StructField(\"Garage_Size\", IntegerType(), True),\n",
        "    StructField(\"Has_Pool\", IntegerType(), True),\n",
        "    StructField(\"Has_Basement\", IntegerType(), True),\n",
        "    StructField(\"Neighborhood_Quality\", IntegerType(), True)\n",
        "])\n",
        "\n",
        "# Создание второй таблицы\n",
        "df2 = spark.createDataFrame(data2, schema=schema2)\n",
        "\n",
        "# Показать данные\n",
        "df1.show(3)\n",
        "df2.show(3)"
      ]
    },
    {
      "cell_type": "code",
      "execution_count": 3,
      "metadata": {
        "id": "ID6k5g0aEOeR"
      },
      "outputs": [],
      "source": [
        "df = spark.read.csv(\"house_price_regression_dataset.csv\", header=True, inferSchema=True)"
      ]
    },
    {
      "cell_type": "code",
      "execution_count": 4,
      "metadata": {
        "colab": {
          "base_uri": "https://localhost:8080/"
        },
        "id": "Nc3haf2rEWUx",
        "outputId": "ad30161b-d02a-4025-ecb6-9df3275ab6c8"
      },
      "outputs": [
        {
          "name": "stdout",
          "output_type": "stream",
          "text": [
            "+--------------+------------+-------------+----------+------------------+-----------+--------------------+------------------+\n",
            "|Square_Footage|Num_Bedrooms|Num_Bathrooms|Year_Built|          Lot_Size|Garage_Size|Neighborhood_Quality|       House_Price|\n",
            "+--------------+------------+-------------+----------+------------------+-----------+--------------------+------------------+\n",
            "|          1360|           2|            1|      1981|0.5996366396268326|          0|                   5| 262382.8522740563|\n",
            "|          4272|           3|            3|      2016|4.7530138494020395|          1|                   6|  985260.854490162|\n",
            "|          3592|           1|            2|      2016| 3.634822720478255|          0|                   9| 777977.3901185812|\n",
            "|           966|           1|            2|      1977|  2.73066687604351|          1|                   8| 229698.9186636115|\n",
            "|          4926|           2|            1|      1993| 4.699072554837388|          0|                   8|1041740.8589249004|\n",
            "+--------------+------------+-------------+----------+------------------+-----------+--------------------+------------------+\n",
            "only showing top 5 rows\n",
            "\n"
          ]
        }
      ],
      "source": [
        "df.show(5)"
      ]
    },
    {
      "cell_type": "code",
      "execution_count": 5,
      "metadata": {
        "colab": {
          "base_uri": "https://localhost:8080/"
        },
        "id": "j3dR5mBSHqT2",
        "outputId": "aa1b015c-8742-4e86-e023-06d82ef4940c"
      },
      "outputs": [
        {
          "name": "stdout",
          "output_type": "stream",
          "text": [
            "root\n",
            " |-- Square_Footage: integer (nullable = true)\n",
            " |-- Num_Bedrooms: integer (nullable = true)\n",
            " |-- Num_Bathrooms: integer (nullable = true)\n",
            " |-- Year_Built: integer (nullable = true)\n",
            " |-- Lot_Size: double (nullable = true)\n",
            " |-- Garage_Size: integer (nullable = true)\n",
            " |-- Neighborhood_Quality: integer (nullable = true)\n",
            " |-- House_Price: double (nullable = true)\n",
            "\n"
          ]
        }
      ],
      "source": [
        "df.printSchema()"
      ]
    },
    {
      "cell_type": "code",
      "execution_count": 6,
      "metadata": {
        "colab": {
          "base_uri": "https://localhost:8080/"
        },
        "id": "LqXahIf3v2Wg",
        "outputId": "0593baf1-69df-4cc6-81ef-2e95226baf63"
      },
      "outputs": [
        {
          "name": "stdout",
          "output_type": "stream",
          "text": [
            "Количество строк: 1000\n"
          ]
        }
      ],
      "source": [
        "row_count = df.count()\n",
        "print(f\"Количество строк: {row_count}\")"
      ]
    },
    {
      "cell_type": "code",
      "execution_count": 7,
      "metadata": {
        "colab": {
          "base_uri": "https://localhost:8080/"
        },
        "id": "T03eBbeHwIrW",
        "outputId": "8a57e58f-5b45-404a-abc6-54eff34cfec9"
      },
      "outputs": [
        {
          "name": "stdout",
          "output_type": "stream",
          "text": [
            "+-------+------------------+------------------+------------------+------------------+------------------+------------------+--------------------+-----------------+\n",
            "|summary|    Square_Footage|      Num_Bedrooms|     Num_Bathrooms|        Year_Built|          Lot_Size|       Garage_Size|Neighborhood_Quality|      House_Price|\n",
            "+-------+------------------+------------------+------------------+------------------+------------------+------------------+--------------------+-----------------+\n",
            "|  count|              1000|              1000|              1000|              1000|              1000|              1000|                1000|             1000|\n",
            "|   mean|          2815.422|              2.99|             1.973|           1986.55|2.7780874273930207|             1.022|               5.615|618861.0186467685|\n",
            "| stddev|1255.5149205133453|1.4275636370887075|0.8203316060861882|20.632915868030334|1.2979031460668562|0.8149725027141597|  2.8870590763110653|253568.0583754209|\n",
            "+-------+------------------+------------------+------------------+------------------+------------------+------------------+--------------------+-----------------+\n",
            "only showing top 3 rows\n",
            "\n"
          ]
        }
      ],
      "source": [
        "df.describe().show(3)"
      ]
    },
    {
      "cell_type": "code",
      "execution_count": 8,
      "metadata": {
        "colab": {
          "base_uri": "https://localhost:8080/"
        },
        "id": "ogDhTGTPwcFe",
        "outputId": "8a33aab6-b9e1-4ead-d6a9-5ea23d7f3496"
      },
      "outputs": [
        {
          "data": {
            "text/plain": [
              "Column<'sum(1)'>"
            ]
          },
          "execution_count": 8,
          "metadata": {},
          "output_type": "execute_result"
        }
      ],
      "source": [
        "from pyspark.sql.functions import lit\n",
        "\n",
        "lit(1)\n",
        "\n",
        "import pyspark.sql.functions as F\n",
        "F.lit(1)\n",
        "F.sum('1')"
      ]
    },
    {
      "cell_type": "markdown",
      "metadata": {
        "id": "WJC57KZ0yXgI"
      },
      "source": [
        "### Вывести уникальные значения для колонки Num_Bedrooms"
      ]
    },
    {
      "cell_type": "code",
      "execution_count": 9,
      "metadata": {
        "colab": {
          "base_uri": "https://localhost:8080/"
        },
        "id": "WvZBSn2-ybPe",
        "outputId": "0916425e-5060-454a-d74e-6042223dcfd3"
      },
      "outputs": [
        {
          "name": "stdout",
          "output_type": "stream",
          "text": [
            "+------------+\n",
            "|Num_Bedrooms|\n",
            "+------------+\n",
            "|           1|\n",
            "|           3|\n",
            "|           5|\n",
            "|           4|\n",
            "|           2|\n",
            "+------------+\n",
            "\n"
          ]
        }
      ],
      "source": [
        "numbedroomsdf = df.select('Num_Bedrooms')\n",
        "numbedroomsdf.distinct().show()"
      ]
    },
    {
      "cell_type": "markdown",
      "metadata": {
        "id": "p_yW7BeL2Bdo"
      },
      "source": [
        "### Отфильтровать строки, где Square_Footage больше 3000."
      ]
    },
    {
      "cell_type": "code",
      "execution_count": 10,
      "metadata": {
        "colab": {
          "base_uri": "https://localhost:8080/"
        },
        "id": "SlpoU3182H2n",
        "outputId": "d163edb6-2473-467b-b596-b2d726ae9ed4"
      },
      "outputs": [
        {
          "name": "stdout",
          "output_type": "stream",
          "text": [
            "+--------------+------------+-------------+----------+------------------+-----------+--------------------+------------------+\n",
            "|Square_Footage|Num_Bedrooms|Num_Bathrooms|Year_Built|          Lot_Size|Garage_Size|Neighborhood_Quality|       House_Price|\n",
            "+--------------+------------+-------------+----------+------------------+-----------+--------------------+------------------+\n",
            "|          4272|           3|            3|      2016|4.7530138494020395|          1|                   6|  985260.854490162|\n",
            "|          3592|           1|            2|      2016| 3.634822720478255|          0|                   9| 777977.3901185812|\n",
            "|          4926|           2|            1|      1993| 4.699072554837388|          0|                   8|1041740.8589249004|\n",
            "|          3944|           5|            3|      1990| 2.475930043628728|          2|                   8| 879796.9835223783|\n",
            "|          3671|           1|            2|      2012| 4.911960066216673|          0|                   1| 814427.8614089885|\n",
            "|          3419|           1|            1|      1972| 2.805281407595683|          1|                   1| 703413.1109446795|\n",
            "|          3885|           2|            3|      1983| 3.251014709974911|          1|                   9|  838719.430503504|\n",
            "|          4617|           5|            1|      2005|4.3578900606237845|          0|                   4|1019192.6613592046|\n",
            "|          3404|           3|            3|      1977| 3.529608977095392|          0|                   1| 735850.8123421574|\n",
            "|          3058|           2|            1|      2017| 1.498552073529678|          0|                   2| 672852.0519810001|\n",
            "|          3247|           1|            2|      2005| 4.467035547233406|          1|                  10| 740174.0146550778|\n",
            "|          3234|           1|            3|      1969|2.5927486173528997|          0|                   7| 652166.1423658864|\n",
            "|          3505|           2|            3|      1968| 4.433768069706617|          1|                   8| 745670.6371477235|\n",
            "|          3702|           5|            1|      1984| 2.892098285487469|          0|                  10|  809686.201143527|\n",
            "|          4056|           3|            3|      1992|2.7975280793420216|          1|                   4| 883819.0911218557|\n",
            "|          4390|           1|            1|      1960|4.1926944095446395|          2|                   5| 912468.0479046734|\n",
            "|          3388|           2|            2|      1987| 2.679549918311789|          0|                   1| 705923.3148916194|\n",
            "|          3324|           1|            1|      2014| 0.688934430093147|          2|                   8| 697574.5556670319|\n",
            "|          3112|           2|            3|      1980|2.6566704046154186|          0|                   9| 666733.4734616925|\n",
            "|          3056|           2|            3|      2018| 4.315675476935068|          2|                   3| 735678.4622017285|\n",
            "+--------------+------------+-------------+----------+------------------+-----------+--------------------+------------------+\n",
            "only showing top 20 rows\n",
            "\n"
          ]
        }
      ],
      "source": [
        "sqfoot = df.filter(df.Square_Footage > 3000)\n",
        "sqfoot.show()"
      ]
    },
    {
      "cell_type": "markdown",
      "metadata": {
        "id": "_UptqxL94Fab"
      },
      "source": [
        "### Объединение таблиц (df и df1) через union"
      ]
    },
    {
      "cell_type": "code",
      "execution_count": 11,
      "metadata": {
        "colab": {
          "base_uri": "https://localhost:8080/"
        },
        "id": "yEY2YdxQ4NZS",
        "outputId": "0cfd57d1-ed10-4362-c071-1041657b501e"
      },
      "outputs": [
        {
          "name": "stdout",
          "output_type": "stream",
          "text": [
            "+--------------+------------+-------------+----------+------------------+-----------+--------------------+------------------+\n",
            "|Square_Footage|Num_Bedrooms|Num_Bathrooms|Year_Built|          Lot_Size|Garage_Size|Neighborhood_Quality|       House_Price|\n",
            "+--------------+------------+-------------+----------+------------------+-----------+--------------------+------------------+\n",
            "|          1360|           2|            1|      1981|0.5996366396268326|          0|                   5| 262382.8522740563|\n",
            "|          4272|           3|            3|      2016|4.7530138494020395|          1|                   6|  985260.854490162|\n",
            "|          3592|           1|            2|      2016| 3.634822720478255|          0|                   9| 777977.3901185812|\n",
            "|           966|           1|            2|      1977|  2.73066687604351|          1|                   8| 229698.9186636115|\n",
            "|          4926|           2|            1|      1993| 4.699072554837388|          0|                   8|1041740.8589249004|\n",
            "|          3944|           5|            3|      1990| 2.475930043628728|          2|                   8| 879796.9835223783|\n",
            "|          3671|           1|            2|      2012| 4.911960066216673|          0|                   1| 814427.8614089885|\n",
            "|          3419|           1|            1|      1972| 2.805281407595683|          1|                   1| 703413.1109446795|\n",
            "|           630|           3|            3|      1997|1.0142859649909075|          1|                   8|173875.03721558454|\n",
            "|          2185|           4|            2|      1981|3.9416043760667474|          2|                   5| 504176.5060593679|\n",
            "|          1269|           2|            2|      2006|3.5550397628502823|          1|                   9|335332.59275293903|\n",
            "|          2891|           2|            3|      1982|3.9784402458751407|          0|                   2|    635097.3959198|\n",
            "|          2933|           5|            3|      1973| 4.781489129265565|          2|                   9| 701133.8041471172|\n",
            "|          1684|           5|            3|      1988|3.9942018619295814|          1|                   8| 440726.2848162878|\n",
            "|          3885|           2|            3|      1983| 3.251014709974911|          1|                   9|  838719.430503504|\n",
            "|          4617|           5|            1|      2005|4.3578900606237845|          0|                   4|1019192.6613592046|\n",
            "|          3404|           3|            3|      1977| 3.529608977095392|          0|                   1| 735850.8123421574|\n",
            "|           974|           2|            2|      1986| 2.336535755716654|          2|                   1|234261.64997473895|\n",
            "|          1582|           5|            2|      1956|4.4852889390879795|          1|                   5| 396246.3588887452|\n",
            "|          3058|           2|            1|      2017| 1.498552073529678|          0|                   2| 672852.0519810001|\n",
            "+--------------+------------+-------------+----------+------------------+-----------+--------------------+------------------+\n",
            "only showing top 20 rows\n",
            "\n",
            "Количество строк: 1005\n"
          ]
        }
      ],
      "source": [
        "unionDF = df.union(df1)\n",
        "unionDF.show()\n",
        "row_count = unionDF.count()\n",
        "print(f\"Количество строк: {row_count}\")"
      ]
    },
    {
      "cell_type": "markdown",
      "metadata": {
        "id": "KpDA1BIn5CFw"
      },
      "source": [
        "### Джойн двух таблиц (df1 и df2) по Garage_Size и Neighborhood_Quality"
      ]
    },
    {
      "cell_type": "code",
      "execution_count": 12,
      "metadata": {
        "colab": {
          "base_uri": "https://localhost:8080/"
        },
        "id": "QIU2hsuU5GKH",
        "outputId": "5edd9d12-be5e-4eeb-9064-e6f23a32df89"
      },
      "outputs": [
        {
          "name": "stdout",
          "output_type": "stream",
          "text": [
            "+-----------+-----------+--------+------------+--------------------+--------------+------------+-------------+----------+--------+-----------+--------------------+-----------+\n",
            "|Property_ID|Garage_Size|Has_Pool|Has_Basement|Neighborhood_Quality|Square_Footage|Num_Bedrooms|Num_Bathrooms|Year_Built|Lot_Size|Garage_Size|Neighborhood_Quality|House_Price|\n",
            "+-----------+-----------+--------+------------+--------------------+--------------+------------+-------------+----------+--------+-----------+--------------------+-----------+\n",
            "|          1|          0|       1|           0|                   5|          1360|           2|            1|      1981|   0.599|          0|                   5|  262382.85|\n",
            "|          5|          0|       1|           0|                   8|          4926|           2|            2|      1993|   4.699|          0|                   8| 1041740.85|\n",
            "|          3|          0|       0|           1|                   9|          3592|           1|            1|      2016|   3.634|          0|                   9|  777977.39|\n",
            "|          2|          1|       1|           1|                   6|          4272|           3|            2|      2016|   4.753|          1|                   6|  985260.85|\n",
            "|          4|          1|       0|           1|                   8|           966|           1|            1|      1977|    2.73|          1|                   8|  229698.91|\n",
            "+-----------+-----------+--------+------------+--------------------+--------------+------------+-------------+----------+--------+-----------+--------------------+-----------+\n",
            "\n"
          ]
        }
      ],
      "source": [
        "df2.join(df1, (df2.Garage_Size == df1.Garage_Size) & (df2.Neighborhood_Quality == df1.Neighborhood_Quality), \"inner\").show()"
      ]
    },
    {
      "cell_type": "markdown",
      "metadata": {
        "id": "GOp3ApZM_PFE"
      },
      "source": [
        "### Создать новую колонку Age как разность между текущим годом (2024) и Year_Built"
      ]
    },
    {
      "cell_type": "code",
      "execution_count": 13,
      "metadata": {
        "colab": {
          "base_uri": "https://localhost:8080/"
        },
        "id": "p49u5u1e_Sfj",
        "outputId": "cfe3cc44-f211-4c31-8395-bb2d3f2a97cc"
      },
      "outputs": [
        {
          "name": "stdout",
          "output_type": "stream",
          "text": [
            "+--------------+------------+-------------+----------+------------------+-----------+--------------------+------------------+---+\n",
            "|Square_Footage|Num_Bedrooms|Num_Bathrooms|Year_Built|          Lot_Size|Garage_Size|Neighborhood_Quality|       House_Price|Age|\n",
            "+--------------+------------+-------------+----------+------------------+-----------+--------------------+------------------+---+\n",
            "|          1360|           2|            1|      1981|0.5996366396268326|          0|                   5| 262382.8522740563| 43|\n",
            "|          4272|           3|            3|      2016|4.7530138494020395|          1|                   6|  985260.854490162|  8|\n",
            "|          3592|           1|            2|      2016| 3.634822720478255|          0|                   9| 777977.3901185812|  8|\n",
            "|           966|           1|            2|      1977|  2.73066687604351|          1|                   8| 229698.9186636115| 47|\n",
            "|          4926|           2|            1|      1993| 4.699072554837388|          0|                   8|1041740.8589249004| 31|\n",
            "|          3944|           5|            3|      1990| 2.475930043628728|          2|                   8| 879796.9835223783| 34|\n",
            "|          3671|           1|            2|      2012| 4.911960066216673|          0|                   1| 814427.8614089885| 12|\n",
            "|          3419|           1|            1|      1972| 2.805281407595683|          1|                   1| 703413.1109446795| 52|\n",
            "|           630|           3|            3|      1997|1.0142859649909075|          1|                   8|173875.03721558454| 27|\n",
            "|          2185|           4|            2|      1981|3.9416043760667474|          2|                   5| 504176.5060593679| 43|\n",
            "|          1269|           2|            2|      2006|3.5550397628502823|          1|                   9|335332.59275293903| 18|\n",
            "|          2891|           2|            3|      1982|3.9784402458751407|          0|                   2|    635097.3959198| 42|\n",
            "|          2933|           5|            3|      1973| 4.781489129265565|          2|                   9| 701133.8041471172| 51|\n",
            "|          1684|           5|            3|      1988|3.9942018619295814|          1|                   8| 440726.2848162878| 36|\n",
            "|          3885|           2|            3|      1983| 3.251014709974911|          1|                   9|  838719.430503504| 41|\n",
            "|          4617|           5|            1|      2005|4.3578900606237845|          0|                   4|1019192.6613592046| 19|\n",
            "|          3404|           3|            3|      1977| 3.529608977095392|          0|                   1| 735850.8123421574| 47|\n",
            "|           974|           2|            2|      1986| 2.336535755716654|          2|                   1|234261.64997473895| 38|\n",
            "|          1582|           5|            2|      1956|4.4852889390879795|          1|                   5| 396246.3588887452| 68|\n",
            "|          3058|           2|            1|      2017| 1.498552073529678|          0|                   2| 672852.0519810001|  7|\n",
            "+--------------+------------+-------------+----------+------------------+-----------+--------------------+------------------+---+\n",
            "only showing top 20 rows\n",
            "\n"
          ]
        }
      ],
      "source": [
        "from pyspark.sql.functions import lit\n",
        "\n",
        "current_date = lit(2024)\n",
        "df = df.withColumn(\"Age\", current_date - df.Year_Built)\n",
        "df.show()"
      ]
    },
    {
      "cell_type": "markdown",
      "metadata": {
        "id": "1Nj4VehvN4Dc"
      },
      "source": [
        "### Удалить колонку `Neighborhood_Quality`"
      ]
    },
    {
      "cell_type": "code",
      "execution_count": 14,
      "metadata": {
        "colab": {
          "base_uri": "https://localhost:8080/"
        },
        "id": "8HfTppt2RG19",
        "outputId": "942ee118-ecb3-496b-c649-4e1eb19d513d"
      },
      "outputs": [
        {
          "data": {
            "text/plain": [
              "DataFrame[Square_Footage: int, Num_Bedrooms: int, Num_Bathrooms: int, Year_Built: int, Lot_Size: double, Garage_Size: int, House_Price: double, Age: int]"
            ]
          },
          "execution_count": 14,
          "metadata": {},
          "output_type": "execute_result"
        }
      ],
      "source": [
        "df.drop('Neighborhood_Quality')"
      ]
    },
    {
      "cell_type": "markdown",
      "metadata": {
        "id": "ZU4vmH1YUm-E"
      },
      "source": [
        "### Сортировать строки по `House_Price` в порядке убывания."
      ]
    },
    {
      "cell_type": "code",
      "execution_count": 15,
      "metadata": {
        "colab": {
          "base_uri": "https://localhost:8080/"
        },
        "id": "cCw7hdR3UrNN",
        "outputId": "46a97d92-a39d-49b0-f89f-2bc3abdc4f6d"
      },
      "outputs": [
        {
          "name": "stdout",
          "output_type": "stream",
          "text": [
            "+--------------+------------+-------------+----------+------------------+-----------+--------------------+------------------+---+\n",
            "|Square_Footage|Num_Bedrooms|Num_Bathrooms|Year_Built|          Lot_Size|Garage_Size|Neighborhood_Quality|       House_Price|Age|\n",
            "+--------------+------------+-------------+----------+------------------+-----------+--------------------+------------------+---+\n",
            "|          4922|           4|            1|      2018|  4.23375289844731|          2|                   2|1108236.8362913695|  6|\n",
            "|          4974|           5|            2|      2000|3.7095614063750157|          2|                  10| 1107045.062935083| 24|\n",
            "|          4996|           1|            3|      2014| 4.252063779134723|          1|                   1|1102533.6490590929| 10|\n",
            "|          4952|           4|            3|      1995| 4.725027320185737|          2|                   9|1099211.6405116057| 29|\n",
            "|          4933|           3|            1|      2015|   4.7693497781737|          2|                   7|1096158.2899088082|  9|\n",
            "|          4995|           3|            2|      2007|3.6800399015496494|          0|                   2|  1092026.89678641| 17|\n",
            "|          4965|           5|            2|      1977|3.0314984057287133|          2|                   2|1075864.2810329462| 47|\n",
            "|          4880|           3|            1|      2008|  4.66035110929355|          1|                   5|1075814.4318808403| 16|\n",
            "|          4996|           5|            1|      2003|1.8681362260159984|          0|                   8|1070454.2752476104| 21|\n",
            "|          4992|           4|            2|      1960|  4.25779675454759|          1|                  10|1068538.1056038716| 64|\n",
            "|          4782|           3|            3|      2006|  4.62471485739085|          1|                  10| 1067425.216621323| 18|\n",
            "|          4969|           2|            3|      2009| 2.856139183496538|          1|                   5|1064774.9343224152| 15|\n",
            "|          4889|           4|            2|      1991| 4.825217370695743|          2|                   8| 1064004.872579212| 33|\n",
            "|          4929|           3|            3|      1971| 4.057342296222531|          2|                   5| 1062899.029267778| 53|\n",
            "|          4999|           5|            1|      1952| 4.662712289043565|          2|                   5| 1060976.488572305| 72|\n",
            "|          4860|           5|            2|      1977| 3.872417026913639|          0|                   6|1060712.8283115798| 47|\n",
            "|          4908|           2|            3|      2022|1.8413404273617024|          1|                   9|1058290.6809403487|  2|\n",
            "|          4863|           2|            3|      1983|4.7169902521385465|          0|                   9|1047149.2482085732| 41|\n",
            "|          4514|           4|            3|      2008| 4.917683041345137|          0|                   4|1046315.8960136625| 16|\n",
            "|          4646|           4|            1|      2012| 4.974868704014931|          1|                   7|1046163.3264236907| 12|\n",
            "+--------------+------------+-------------+----------+------------------+-----------+--------------------+------------------+---+\n",
            "only showing top 20 rows\n",
            "\n"
          ]
        }
      ],
      "source": [
        "df.orderBy(\"House_Price\", ascending=False).show()"
      ]
    },
    {
      "cell_type": "markdown",
      "metadata": {
        "id": "UsF34ngpVHrC"
      },
      "source": [
        "### Вывести строки с отсутствующими значениями в колонке `Garage_Size`."
      ]
    },
    {
      "cell_type": "code",
      "execution_count": 16,
      "metadata": {
        "colab": {
          "base_uri": "https://localhost:8080/"
        },
        "id": "FdFbdUjYVNDF",
        "outputId": "5b811930-a16f-4a46-c0a0-47b997a5e577"
      },
      "outputs": [
        {
          "name": "stdout",
          "output_type": "stream",
          "text": [
            "+--------------+------------+-------------+----------+--------+-----------+--------------------+-----------+---+\n",
            "|Square_Footage|Num_Bedrooms|Num_Bathrooms|Year_Built|Lot_Size|Garage_Size|Neighborhood_Quality|House_Price|Age|\n",
            "+--------------+------------+-------------+----------+--------+-----------+--------------------+-----------+---+\n",
            "+--------------+------------+-------------+----------+--------+-----------+--------------------+-----------+---+\n",
            "\n"
          ]
        }
      ],
      "source": [
        "dfna =  df.filter(df.Garage_Size.isNull())\n",
        "dfna.show()"
      ]
    },
    {
      "cell_type": "markdown",
      "metadata": {
        "id": "4RNL0WlSY2jd"
      },
      "source": [
        "### Подсчитать среднюю цену дома (`House_Price`)."
      ]
    },
    {
      "cell_type": "code",
      "execution_count": 17,
      "metadata": {
        "colab": {
          "base_uri": "https://localhost:8080/"
        },
        "id": "uNxFuStUY6V7",
        "outputId": "edc30214-e2e5-4aaf-92d0-fba88de1e864"
      },
      "outputs": [
        {
          "name": "stdout",
          "output_type": "stream",
          "text": [
            "+-----------------+\n",
            "| avg(House_Price)|\n",
            "+-----------------+\n",
            "|618861.0186467685|\n",
            "+-----------------+\n",
            "\n"
          ]
        }
      ],
      "source": [
        "from pyspark.sql.functions import avg\n",
        "\n",
        "avg_df = df.select(avg(\"House_Price\"))\n",
        "avg_df.show()"
      ]
    }
  ],
  "metadata": {
    "colab": {
      "provenance": [],
      "toc_visible": true
    },
    "kernelspec": {
      "display_name": "Python 3",
      "name": "python3"
    },
    "language_info": {
      "name": "python"
    }
  },
  "nbformat": 4,
  "nbformat_minor": 0
}
